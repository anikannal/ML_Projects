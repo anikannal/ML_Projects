{
 "cells": [
  {
   "cell_type": "markdown",
   "metadata": {
    "slideshow": {
     "slide_type": "slide"
    }
   },
   "source": [
    "# Introduction to Machine Learning"
   ]
  },
  {
   "cell_type": "markdown",
   "metadata": {
    "slideshow": {
     "slide_type": "slide"
    }
   },
   "source": [
    "## What is Machine Learning?\n"
   ]
  },
  {
   "cell_type": "markdown",
   "metadata": {
    "slideshow": {
     "slide_type": "fragment"
    }
   },
   "source": [
    "Machine Learning is the field of study that gives computers the capability to learn without being explicitly programmed.\n",
    "\n",
    "I like to think of it as a comparison rather than a definition.\n",
    "\n",
    "- If you **can** give clear instructions on how to do the task - traditional computing\n",
    "- If you **cannot** give clear instructions but can give lots of examples - machine learning\n",
    "\n",
    "Let's look at a few illustrations - \n",
    "\n",
    "1. Complex mathematical calculations - can give clear instructions: traditional computing\n",
    "2. Processing a financial transaction - can give clear instructions: traditional computing\n",
    "3. Differentiate between pictures of cats and dogs - cant give instructions but can give examples: machine learning\n",
    "4. Playing chess - can give clear instructions for how to play but cannot give instructions on how to win! We can give a lot of past games as examples though: machine learning\n",
    "5. Customer segmentation - dont know what the segments/groupings are, so giving clear instructions is out of question. Can give a large amount of examples with customer demographic data and purchase history: machine learning\n",
    "\n",
    "So we can say that traditional programming takes data and program to give us output, while machine learning takes data and output (examples) to give us a program!"
   ]
  },
  {
   "cell_type": "markdown",
   "metadata": {
    "slideshow": {
     "slide_type": "slide"
    }
   },
   "source": [
    "<img src='https://drive.google.com/uc?id=1SAu0GNpDqDNRNxEtXRqBX-t20BuB0HcR' align = 'left'/>"
   ]
  },
  {
   "cell_type": "markdown",
   "metadata": {},
   "source": [
    "## Data is the New Oil!\n",
    "\n",
    "Data is absolutely **critical** to creating a viable Machine Learning model. Here's simple representation of how data helps us create a model and a model helps us make predictions."
   ]
  },
  {
   "attachments": {},
   "cell_type": "markdown",
   "metadata": {
    "slideshow": {
     "slide_type": "slide"
    }
   },
   "source": [
    "<img src=\"https://drive.google.com/uc?id=1rM6SBXOMeAcFXu1OLtvk4HOWsXdY_xGU\" width=500 height=300 align=\"left\"/>"
   ]
  },
  {
   "cell_type": "markdown",
   "metadata": {},
   "source": [
    "Here's a short explainer video if the pictures didnt really do it for you..."
   ]
  },
  {
   "cell_type": "code",
   "execution_count": 8,
   "metadata": {},
   "outputs": [
    {
     "data": {
      "text/html": [
       "\n",
       "        <iframe\n",
       "            width=\"600\"\n",
       "            height=\"400\"\n",
       "            src=\"https://www.youtube.com/embed/f_uwKZIAeM0\"\n",
       "            frameborder=\"0\"\n",
       "            allowfullscreen\n",
       "        ></iframe>\n",
       "        "
      ],
      "text/plain": [
       "<IPython.lib.display.IFrame at 0x7fe6f2d09cd0>"
      ]
     },
     "execution_count": 8,
     "metadata": {},
     "output_type": "execute_result"
    }
   ],
   "source": [
    "## Run this cell (shift+enter) to see the video\n",
    "\n",
    "from IPython.display import IFrame\n",
    "IFrame(\"https://www.youtube.com/embed/f_uwKZIAeM0\", width=\"600\", height=\"400\")"
   ]
  },
  {
   "cell_type": "markdown",
   "metadata": {},
   "source": [
    "## What are the Different Types of Machine Learning?"
   ]
  },
  {
   "attachments": {},
   "cell_type": "markdown",
   "metadata": {},
   "source": [
    "<img src=\"https://drive.google.com/uc?id=1ESgroj56fbOoE0_xiMhsaibVa8D-_80H\" align=\"left\" width=\"1000\" height=\"800\"/>"
   ]
  },
  {
   "cell_type": "markdown",
   "metadata": {},
   "source": [
    "---\n",
    "## Course Overview"
   ]
  },
  {
   "cell_type": "markdown",
   "metadata": {},
   "source": [
    "This course is designed for the 'do-ers'. Our entire focus during this course will be to apply and experiment. Conceptual understanding is very important and we will build a strong conceptual foundation but it will always be in context of a project rather than just a theoretical understanding.\n",
    "\n",
    "We will be exploring a variety of Machine Learning algorithms. For each we will use an appropriate real world dataset, work on a real problem statement, and execute a project that can become the foundation of your ML skills portfolio and your resume.\n",
    "\n",
    "You now have access to a full scale ML lab-on-cloud. This is a very powerful tool, IF you use it. Make the most of what you have - explore, experiment, break a few things. You learn the most out of failure!"
   ]
  },
  {
   "cell_type": "markdown",
   "metadata": {},
   "source": [
    "### What Will We Do?\n",
    "\n",
    "- We will understand the life cycle of a typical ML project and exercise it through real projects\n",
    "- We will be exploring a slew of ML algorithms (supervised and un-supervised learning)\n",
    "- For each of these algorithms we will understand how it works and apply it in a project\n",
    "- We will extensively work on real world datasets and strive to be hands-on"
   ]
  },
  {
   "cell_type": "markdown",
   "metadata": {},
   "source": [
    "### What Will We NOT Do?\n",
    "\n",
    "- We will not cover every ML algorithm under the sun\n",
    "- We will not cover reinforced learning and deep learning in this course\n",
    "- We will not go deep into the mathematical, probabilistic, and statistical foundations of ML"
   ]
  },
  {
   "cell_type": "markdown",
   "metadata": {},
   "source": [
    "## Course Curriculum\n",
    "\n",
    "**Key Concepts Covered**\n",
    "1. Lifecycle of a typical ML project\n",
    "2. Data Pre-processing</td>\n",
    "    - Data acquisition and loading\\n\n",
    "    - Data integration\\n\n",
    "    - Exploratory data analysis\n",
    "    - Data cleaning\n",
    "    - Feature selection\n",
    "    - Encoding\n",
    "    - Normalization\n",
    "3. Picking the Right Algorithm\n",
    "4. Evaluating Your Model\n",
    "    - Train - Test Split\n",
    "    - Evaluation Metrics\n",
    "    - Under and Over Fitting\n",
    "5. Other key concepts \n",
    "    - Imputation\n",
    "    - Kernel Functions\n",
    "    - Bagging\n",
    "    - Hyperparameters\n",
    "    - Boosting\n",
    "\n",
    "**Algorithms Covered**\n",
    "1. Linear Regression\n",
    "2. Logistic Regression\n",
    "3. K Nearest Neighbors\n",
    "4. Decision Trees\n",
    "5. Random Forest\n",
    "6. Naive Bayes\n",
    "7. Support Vector Machine\n",
    "8. K Means Clustering\n",
    "9. Hierarchical Clustering\n",
    "\n",
    "**Datasets Used**\n",
    "1. Healthcare - patient data on drug efficacy\n",
    "2. Telecom - customer profiles\n",
    "3. Retail - customer profiles\n",
    "4. Automobile - automobile catalogue make, model, engine specs, etc.\n",
    "5. Environment - CO2 emmissions data\n",
    "6. Health Informatics - cancer cell biopsy observations"
   ]
  },
  {
   "cell_type": "markdown",
   "metadata": {},
   "source": [
    "---\n",
    "## Life Cycle of a Typical ML Project"
   ]
  },
  {
   "attachments": {},
   "cell_type": "markdown",
   "metadata": {},
   "source": [
    "A typical ML project goes through 5 major steps - \n",
    "\n",
    "1. Define Project Objectives\n",
    "2. Acquire, Explore and Prepare Data\n",
    "3. Model Data\n",
    "4. Interpret and Communicate the Insights\n",
    "5. Implement, Document, and Maintain\n",
    "\n",
    "We will work through steps 1 thru 4 during this course. We will **not** be deploying, documenting or maintaining our models.\n",
    "\n",
    "<img src=\"https://drive.google.com/uc?id=1hQrE2Q7D_j4T8y5aM8pW-ejuS4VUP7Co\" align=\"left\"/>\n",
    "\n",
    "\n",
    "\n",
    "\n",
    "Let's look at each of steps in further detail - \n",
    "\n",
    "1. **Define Project Objectives** - this is very important step that most of us tend to forget. Without a clear understand of why you are doing any project, the project will fail. What the business or clients expects as outcome of the project has to be discussed and understood before you start off.\n",
    "\n",
    "\n",
    "2. **Acquire, Explore, and Prepare Data** - you will spend a lot of your time on this step when you do an ML project. This is a critical step - exploring the data will help you decide which models you might want to employ, based this preliminary hypothesis you will prepare the data for the next step (Model Data). Here are a few things you will end up doing within this step - \n",
    "    - Data acquisition and loading\n",
    "    - Data integration\n",
    "    - Exploratory data analysis\n",
    "    - Data cleaning\n",
    "    - Feature selection\n",
    "    - Encoding\n",
    "    - Normalization\n",
    "\n",
    "\n",
    "3. **Model Data** - this is the heart of our project. But, most students of ML get stuck on fancy algorithm names. There's a lot more to it than just claiming that you have done a project using SVM or Logistic Regression. You have to be able to articulate how you picked a model, how you trained it, and why did you conclude that the output looks good.\n",
    "    - Select the algorithm(s) to use\n",
    "    - Train the model(s)\n",
    "    - Evaluate performance\n",
    "    - Tweak parameters and re-evaluate\n",
    "\n",
    "\n",
    "4. **Interpret and Communicate the Insights** - just modeling the data, showing a few visualizations, and reducing the error is not enough. As an ML engineer you have to be able to talk to your client and help them interpret the outcome of all your hard work. Be ready to answer a few questions - \n",
    "    - What interesting patterns did you notice in the data?\n",
    "    - Did you notice any intrinsic dependencies, correlation, or causation in the features?\n",
    "    - Why did you pick the algorithm that you did?\n",
    "    - How did you split the train-test data? why?\n",
    "    - Is this error rate acceptable? why?\n",
    "    - How will the outcome of this project help the client?\n",
    "\n",
    "\n",
    "5. **Implement, Document, and Maintain** - at a real client, you will have to deploy your model in production, document it extensively, and also maintain it going forward. We will not go into this step given we are not going to be deploying our models in production.\n"
   ]
  },
  {
   "cell_type": "markdown",
   "metadata": {},
   "source": [
    "## Kick Start!\n",
    "Here's a 12 minute crash course on ML to kick-start our journey!"
   ]
  },
  {
   "cell_type": "code",
   "execution_count": 9,
   "metadata": {
    "scrolled": false
   },
   "outputs": [
    {
     "data": {
      "text/html": [
       "\n",
       "        <iframe\n",
       "            width=\"814\"\n",
       "            height=\"509\"\n",
       "            src=\"https://www.youtube.com/embed/z-EtmaFJieY\"\n",
       "            frameborder=\"0\"\n",
       "            allowfullscreen\n",
       "        ></iframe>\n",
       "        "
      ],
      "text/plain": [
       "<IPython.lib.display.IFrame at 0x7fe6f2d1d0d0>"
      ]
     },
     "execution_count": 9,
     "metadata": {},
     "output_type": "execute_result"
    }
   ],
   "source": [
    "## Run this cell (shift+enter) to see the video\n",
    "\n",
    "from IPython.display import IFrame\n",
    "IFrame(\"https://www.youtube.com/embed/z-EtmaFJieY\", width=\"814\", height=\"509\")"
   ]
  },
  {
   "cell_type": "markdown",
   "metadata": {},
   "source": [
    "Here's a great article that summarizes Machine Learning really well.\n",
    "\n",
    "https://machinelearningmastery.com/basic-concepts-in-machine-learning/"
   ]
  }
 ],
 "metadata": {
  "kernelspec": {
   "display_name": "Python 3",
   "language": "python",
   "name": "python3"
  },
  "language_info": {
   "codemirror_mode": {
    "name": "ipython",
    "version": 3
   },
   "file_extension": ".py",
   "mimetype": "text/x-python",
   "name": "python",
   "nbconvert_exporter": "python",
   "pygments_lexer": "ipython3",
   "version": "3.7.4"
  },
  "varInspector": {
   "cols": {
    "lenName": 16,
    "lenType": 16,
    "lenVar": 40
   },
   "kernels_config": {
    "python": {
     "delete_cmd_postfix": "",
     "delete_cmd_prefix": "del ",
     "library": "var_list.py",
     "varRefreshCmd": "print(var_dic_list())"
    },
    "r": {
     "delete_cmd_postfix": ") ",
     "delete_cmd_prefix": "rm(",
     "library": "var_list.r",
     "varRefreshCmd": "cat(var_dic_list()) "
    }
   },
   "types_to_exclude": [
    "module",
    "function",
    "builtin_function_or_method",
    "instance",
    "_Feature"
   ],
   "window_display": false
  },
  "widgets": {
   "state": {},
   "version": "1.1.2"
  }
 },
 "nbformat": 4,
 "nbformat_minor": 2
}
